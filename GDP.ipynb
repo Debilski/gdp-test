{
 "cells": [
  {
   "cell_type": "code",
   "execution_count": 2,
   "metadata": {
    "collapsed": false
   },
   "outputs": [],
   "source": [
    "import csv, sqlite3"
   ]
  },
  {
   "cell_type": "code",
   "execution_count": 3,
   "metadata": {
    "collapsed": true
   },
   "outputs": [],
   "source": [
    "conn = sqlite3.connect(\"data.sqlite\")\n",
    "c = conn.cursor()"
   ]
  },
  {
   "cell_type": "code",
   "execution_count": 6,
   "metadata": {
    "collapsed": false
   },
   "outputs": [
    {
     "data": {
      "text/plain": [
       "<sqlite3.Cursor at 0x10646f8f0>"
      ]
     },
     "execution_count": 6,
     "metadata": {},
     "output_type": "execute_result"
    }
   ],
   "source": [
    "c.execute(\"drop table if exists 'countries'\")\n",
    "c.execute(\"drop table if exists 'population'\")\n",
    "c.execute(\"drop table if exists 'gdp'\")"
   ]
  },
  {
   "cell_type": "code",
   "execution_count": 7,
   "metadata": {
    "collapsed": false
   },
   "outputs": [
    {
     "data": {
      "text/plain": [
       "<sqlite3.Cursor at 0x10646f8f0>"
      ]
     },
     "execution_count": 7,
     "metadata": {},
     "output_type": "execute_result"
    }
   ],
   "source": [
    "c.execute(\"create table 'countries' ( country_id INTEGER PRIMARY KEY AUTOINCREMENT, name varchar(255) );\")\n",
    "c.execute(\"create table 'gdp' ( year int, value int, country_id int, foreign key(country_id) references countries(country_id) );\")\n",
    "c.execute(\"create table 'population' ( value int, country_id int, foreign key(country_id) references countries(country_id) );\")\n",
    "\n"
   ]
  },
  {
   "cell_type": "code",
   "execution_count": 9,
   "metadata": {
    "collapsed": true
   },
   "outputs": [],
   "source": [
    "def add_population(c_id, population):\n",
    "    c.execute(\"insert into population (country_id, value) values (?, ?)\", (c_id, population))\n"
   ]
  },
  {
   "cell_type": "code",
   "execution_count": 10,
   "metadata": {
    "collapsed": false,
    "scrolled": true
   },
   "outputs": [],
   "source": [
    "def add_country(country_name):\n",
    "    c.execute(\"insert into countries (name) values (?)\", (country_name,))\n",
    "    c.execute(\"select country_id from countries where name=?\", (country_name,))\n",
    "    return c.fetchone()[0]"
   ]
  },
  {
   "cell_type": "code",
   "execution_count": 11,
   "metadata": {
    "collapsed": false
   },
   "outputs": [
    {
     "name": "stdout",
     "output_type": "stream",
     "text": [
      "Skipping Kosovo \n",
      "Skipping Syria n/a\n"
     ]
    }
   ],
   "source": [
    "with open(\"data.csv\", 'r') as csvdata:\n",
    "    reader = csv.reader(csvdata, delimiter=\"\\t\")\n",
    "    for row in reader:\n",
    "        country, population, *gdp = row\n",
    "        c_id = add_country(country)\n",
    "        try:\n",
    "            f_population = float(population)\n",
    "            add_population(c_id, f_population)\n",
    "        except ValueError:\n",
    "            print(\"Skipping\", country, population)\n",
    "conn.commit()\n"
   ]
  },
  {
   "cell_type": "code",
   "execution_count": 29,
   "metadata": {
    "collapsed": true
   },
   "outputs": [],
   "source": [
    "c.fetchone()"
   ]
  },
  {
   "cell_type": "code",
   "execution_count": 14,
   "metadata": {
    "collapsed": false
   },
   "outputs": [
    {
     "data": {
      "text/plain": [
       "[('China', 35, 1367.82),\n",
       " ('India', 75, 1275.921),\n",
       " ('United States', 181, 319.075),\n",
       " ('Indonesia', 76, 252.165),\n",
       " ('Brazil', 23, 202.769),\n",
       " ('Pakistan', 127, 186.19),\n",
       " ('Nigeria', 124, 173.938),\n",
       " ('Bangladesh', 13, 158.217),\n",
       " ('Russia', 138, 146.3),\n",
       " ('Japan', 83, 127.061)]"
      ]
     },
     "execution_count": 14,
     "metadata": {},
     "output_type": "execute_result"
    }
   ],
   "source": [
    "QUERY = \"\"\"\n",
    "    select name, countries.country_id, value\n",
    "    from population, countries\n",
    "    on countries.country_id=population.country_id\n",
    "    order by value desc\n",
    "    limit 0, 10;\"\"\"\n",
    "c.execute(QUERY)\n",
    "c.fetchall()"
   ]
  },
  {
   "cell_type": "code",
   "execution_count": null,
   "metadata": {
    "collapsed": true
   },
   "outputs": [],
   "source": []
  }
 ],
 "metadata": {
  "kernelspec": {
   "display_name": "Python 3",
   "language": "python",
   "name": "python3"
  },
  "language_info": {
   "codemirror_mode": {
    "name": "ipython",
    "version": 3
   },
   "file_extension": ".py",
   "mimetype": "text/x-python",
   "name": "python",
   "nbconvert_exporter": "python",
   "pygments_lexer": "ipython3",
   "version": "3.5.0"
  }
 },
 "nbformat": 4,
 "nbformat_minor": 0
}
